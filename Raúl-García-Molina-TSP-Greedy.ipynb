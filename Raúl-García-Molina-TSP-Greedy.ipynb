{
 "cells": [
  {
   "cell_type": "code",
   "execution_count": 1,
   "metadata": {
    "collapsed": false
   },
   "outputs": [
    {
     "name": "stdout",
     "output_type": "stream",
     "text": [
      "Populating the interactive namespace from numpy and matplotlib\n"
     ]
    }
   ],
   "source": [
    "%pylab inline"
   ]
  },
  {
   "cell_type": "code",
   "execution_count": 2,
   "metadata": {
    "collapsed": true
   },
   "outputs": [],
   "source": [
    "import pandas as pd"
   ]
  },
  {
   "cell_type": "markdown",
   "metadata": {},
   "source": [
    "<h3> Establecemos el número de ciudades </h3>"
   ]
  },
  {
   "cell_type": "code",
   "execution_count": 3,
   "metadata": {
    "collapsed": true
   },
   "outputs": [],
   "source": [
    "# Tamaño de ciudades\n",
    "num_ciudades=1000\n",
    "# Solución aleatoria\n",
    "solucion = np.random.permutation(num_ciudades)\n",
    "#print(solucion)"
   ]
  },
  {
   "cell_type": "markdown",
   "metadata": {},
   "source": [
    "<h3> Cargamos el archivo con las ciudades </h3>"
   ]
  },
  {
   "cell_type": "code",
   "execution_count": 4,
   "metadata": {
    "collapsed": true
   },
   "outputs": [],
   "source": [
    "from StringIO import StringIO\n",
    "df = pd.read_table('ar9152.tsp', engine='python',sep=' ', skiprows=7, skipfooter=1, names=['x','y'])"
   ]
  },
  {
   "cell_type": "markdown",
   "metadata": {},
   "source": [
    "<h3> Eliminamos el último elemento </h3>"
   ]
  },
  {
   "cell_type": "code",
   "execution_count": 5,
   "metadata": {
    "collapsed": false
   },
   "outputs": [
    {
     "name": "stdout",
     "output_type": "stream",
     "text": [
      "               x           y\n",
      "9148  34411.1111  58798.3333\n",
      "9149  34813.3333  58475.2778\n",
      "9150  34878.0556  58135.8333\n",
      "9151  34917.2222  58386.9444\n",
      "9152  34976.9444  58686.9444\n"
     ]
    }
   ],
   "source": [
    "print df.tail()\n",
    "# Borro el último\n",
    "df = df[:-1]\n",
    "#print df.tail()"
   ]
  },
  {
   "cell_type": "code",
   "execution_count": 6,
   "metadata": {
    "collapsed": true
   },
   "outputs": [],
   "source": [
    "posiciones=[(float(x),float(y)) for x, y in zip(df['x'],df['y'])]"
   ]
  },
  {
   "cell_type": "markdown",
   "metadata": {},
   "source": [
    "<h3> Creamos la matriz posiciones y seleccionamos las primeras 1000 ciudades </h3>"
   ]
  },
  {
   "cell_type": "code",
   "execution_count": 7,
   "metadata": {
    "collapsed": true
   },
   "outputs": [],
   "source": [
    "pos = np.asarray(posiciones)\n",
    "max_pos = pos.max(0)\n",
    "min_pos = pos.min(0)\n",
    "ratio_pos = max_pos - min_pos\n",
    "pos = (pos-min_pos)/ratio_pos\n",
    "posiciones = map(tuple, pos)\n",
    "posiciones= map(tuple,pos[:1000])\n",
    "#print(posiciones)"
   ]
  },
  {
   "cell_type": "markdown",
   "metadata": {},
   "source": [
    "<h3> Calculamos la distancia euclidea </h3>"
   ]
  },
  {
   "cell_type": "code",
   "execution_count": 8,
   "metadata": {
    "collapsed": true
   },
   "outputs": [],
   "source": [
    "from scipy.spatial.distance import euclidean as distance\n",
    "\n",
    "def get_matrix_costes(posiciones):\n",
    "    num = len(posiciones)\n",
    "    costes = np.array([distance(posiciones[c1],posiciones[c2]) for c1 in range(num) for c2 in range(num)])\n",
    "    return costes.reshape((num, num))"
   ]
  },
  {
   "cell_type": "code",
   "execution_count": 9,
   "metadata": {
    "collapsed": true
   },
   "outputs": [],
   "source": [
    "costes = get_matrix_costes(posiciones)"
   ]
  },
  {
   "cell_type": "markdown",
   "metadata": {},
   "source": [
    "<h3>Función fitness, que calcula la distancia empleada por 'solución' dado 'costes'</h3>"
   ]
  },
  {
   "cell_type": "code",
   "execution_count": 10,
   "metadata": {
    "collapsed": true
   },
   "outputs": [],
   "source": [
    "def fitness(solucion, costes):\n",
    "    sum = 0\n",
    "    \n",
    "    for i in range(num_ciudades-1):\n",
    "        c1 = solucion[i]\n",
    "        c2 = solucion[i+1]\n",
    "        sum += costes[c1,c2]\n",
    "    # Volver a la ciudad inicial\n",
    "    ciudad_final = solucion[num_ciudades-1]\n",
    "    ciudad_origen = solucion[0]\n",
    "    sum += costes[ciudad_final, ciudad_origen]\n",
    "    return sum"
   ]
  },
  {
   "cell_type": "code",
   "execution_count": 11,
   "metadata": {
    "collapsed": false
   },
   "outputs": [
    {
     "data": {
      "text/plain": [
       "295.01014324305379"
      ]
     },
     "execution_count": 11,
     "metadata": {},
     "output_type": "execute_result"
    }
   ],
   "source": [
    "# Evaluamos la distancía del recorrido obtenido con la función aleatoria\n",
    "#solucion, fitness(solucion, costes)\n",
    "fitness(solucion, costes)"
   ]
  },
  {
   "cell_type": "markdown",
   "metadata": {},
   "source": [
    "<h3>Algoritmo de búsqueda aleatoria </h3>"
   ]
  },
  {
   "cell_type": "code",
   "execution_count": 12,
   "metadata": {
    "collapsed": true
   },
   "outputs": [],
   "source": [
    "def random_sol(num):\n",
    "    return np.random.permutation(num)"
   ]
  },
  {
   "cell_type": "code",
   "execution_count": 13,
   "metadata": {
    "collapsed": true
   },
   "outputs": [],
   "source": [
    "from sys import maxint\n",
    "\n",
    "def random_search(costes, evaluations):\n",
    "    num = costes.shape[0]\n",
    "    best = maxint\n",
    "    best_sol = []\n",
    "    \n",
    "    for r in range(evaluations):\n",
    "        solucion = random_sol(num)\n",
    "        fitness_sol = fitness(solucion, costes)\n",
    "        if (fitness_sol < best):\n",
    "            best = fitness_sol\n",
    "            best_sol = solucion\n",
    "            \n",
    "    return best_sol"
   ]
  },
  {
   "cell_type": "markdown",
   "metadata": {},
   "source": [
    "<h3> Realizamos el algoritmo greedy </h3>"
   ]
  },
  {
   "cell_type": "code",
   "execution_count": 16,
   "metadata": {
    "collapsed": false
   },
   "outputs": [],
   "source": [
    "def solucion_greedy(costes):\n",
    "    \n",
    "    # Creamos un vector que almacena los id de las ciudades por visitar\n",
    "    pendientes= x= np.arange(1000)\n",
    "    \n",
    "    # Eliminamos la primera ciudad\n",
    "    pendientes=np.delete(pendientes,0)\n",
    "    \n",
    "    solucion= []\n",
    "    \n",
    "    ciudadActual=0\n",
    "    \n",
    "    # Añadimos el primer elemento\n",
    "    solucion.append(ciudadActual)\n",
    "    \n",
    "    # Mientras queden ciudades pendientes\n",
    "    while  0 < len(pendientes):\n",
    "    \n",
    "        # Obtenemos todas las distancias a las ciudades desde la ciudad c1\n",
    "        distancias=costes[ciudadActual]\n",
    "        \n",
    "        # Escogemos de esas distancias sólo las ciudades que queden por recorrer\n",
    "        distancias_destino = distancias[pendientes]\n",
    "        \n",
    "        # Copiamos las distancias destino para poder obtener 3 veces la ciudad más cercana\n",
    "        # sin modificar el original\n",
    "        distancias_destino2 = distancias_destino[:]\n",
    "        # Pendientes2 almacena el identificador de la ciudad a la que hace referencia distancias_destino2\n",
    "        pendientes2 = pendientes[:]\n",
    "        \n",
    "        # Inicializamos el vector que contiene las 3 ciudades que pueden ser elegidas\n",
    "        idCiudadesCercanas= []\n",
    "        \n",
    "        # id1 contiene el id del vector que contiene las ciudades pendientes\n",
    "        id1= distancias_destino2.argmin()\n",
    "        # ciudad1 contiene el id de la ciudad\n",
    "        ciudad1=pendientes2[id1]\n",
    "        # Eliminamos la ciudad de pendientes2\n",
    "        pendientes2=np.delete(pendientes2,id1)\n",
    "        # Eliminamos el indice ciudad1 del vector distancias_destino2\n",
    "        distancias_destino2=np.delete(distancias_destino2,id1)\n",
    "        idCiudadesCercanas.append(ciudad1)\n",
    "        \n",
    "        # Controlamos que queden ciudades\n",
    "        if (len(distancias_destino2) > 0):\n",
    "            # Cogemos el indice del menor valor del vector\n",
    "            id2= distancias_destino2.argmin();\n",
    "            # ciudad2 contiene el id de la ciudad\n",
    "            ciudad2=pendientes2[id2]\n",
    "            # Eliminamos la ciudad de pendientes2\n",
    "            pendientes2=np.delete(pendientes2,id2)\n",
    "            # Eliminamos el indice ciudad2 del vector distancias_destino2\n",
    "            distancias_destino2=np.delete(distancias_destino2,id2)\n",
    "            idCiudadesCercanas.append(ciudad2)\n",
    "        \n",
    "        # Controlamos que queden ciudades\n",
    "        if (len(distancias_destino2) > 0):\n",
    "            # Cogemos el indice del menor valor del vector\n",
    "            id3= distancias_destino2.argmin();\n",
    "            # ciudad2 contiene el id de la ciudad\n",
    "            ciudad3=pendientes2[id3]\n",
    "            # Eliminamos la ciudad de pendientes2\n",
    "            pendientes2=np.delete(pendientes2,id3)\n",
    "            # Eliminamos el indice ciudad2 del vector distancias_destino3\n",
    "            distancias_destino2=np.delete(distancias_destino2,id3)\n",
    "            idCiudadesCercanas.append(ciudad3)\n",
    "        \n",
    "        # Si solo queda una ciudad escogemos la primera\n",
    "        if (len(idCiudadesCercanas) == 1):\n",
    "            ciudadActual=idCiudadesCercanas[0]\n",
    "        \n",
    "        # Una vez que tenemos las distancias de las 3 ciudades escogemos una aleatoriamente\n",
    "        if (len(idCiudadesCercanas) == 2):\n",
    "            ciudadActual=idCiudadesCercanas[random.randint(0,1)]\n",
    "        \n",
    "        if (len(idCiudadesCercanas) == 3):\n",
    "            ciudadActual=idCiudadesCercanas[random.randint(0,2)]\n",
    "        \n",
    "        # Añadimos la CiudadElegida a el camino seguido\n",
    "        solucion.append(ciudadActual)\n",
    "        \n",
    "        # Busacamos el índice y eliminamos la ciudad\n",
    "        pendientes=np.delete(pendientes,np.searchsorted(pendientes,ciudadActual, side=\"left\"))\n",
    "        \n",
    "    # La solución está formada por el conjunto de vertices que son la solución\n",
    "    return solucion"
   ]
  },
  {
   "cell_type": "markdown",
   "metadata": {},
   "source": [
    "<h3> Tsp greedy ejecuta el algoritmo greedy con el criterio de parada especificado </h3>"
   ]
  },
  {
   "cell_type": "code",
   "execution_count": 17,
   "metadata": {
    "collapsed": true
   },
   "outputs": [],
   "source": [
    "from sys import maxint\n",
    "\n",
    "def tsp_greedy(costes, evaluations):\n",
    "    num = costes.shape[0]\n",
    "    best = maxint\n",
    "    best_sol = []\n",
    "    \n",
    "    for r in range(evaluations):\n",
    "        solucion = solucion_greedy(costes)\n",
    "        fitness_sol = fitness(solucion, costes)\n",
    "        if (fitness_sol < best):\n",
    "            best = fitness_sol\n",
    "            best_sol = solucion\n",
    "            \n",
    "    return best_sol"
   ]
  },
  {
   "cell_type": "markdown",
   "metadata": {},
   "source": [
    "<h3> Realizamos la comparación entre el algoritmo aleatorio y el greedy implementado  </h3>"
   ]
  },
  {
   "cell_type": "code",
   "execution_count": 18,
   "metadata": {
    "collapsed": false
   },
   "outputs": [
    {
     "name": "stdout",
     "output_type": "stream",
     "text": [
      "La distancia del algoritmo devorador es: 19.96\n",
      "La distancia del algoritmo aleatorio es: 287.88\n"
     ]
    }
   ],
   "source": [
    "distancia1=0\n",
    "distancia2=0\n",
    "    \n",
    "for r in range(10):\n",
    "    distancia1+= fitness(tsp_greedy(costes,5000),costes)\n",
    "    distancia2+= fitness(random_search(costes,5000),costes)\n",
    "    \n",
    "distanciat1= distancia1/10\n",
    "distanciat2= distancia2/10\n",
    "\n",
    "print \"La distancia del algoritmo devorador es: \"+\"%.2f\" % distanciat1\n",
    "print \"La distancia del algoritmo aleatorio es: \"+\"%.2f\" % distanciat2"
   ]
  },
  {
   "cell_type": "code",
   "execution_count": null,
   "metadata": {
    "collapsed": true
   },
   "outputs": [],
   "source": []
  }
 ],
 "metadata": {
  "kernelspec": {
   "display_name": "Python 2",
   "language": "python",
   "name": "python2"
  },
  "language_info": {
   "codemirror_mode": {
    "name": "ipython",
    "version": 2
   },
   "file_extension": ".py",
   "mimetype": "text/x-python",
   "name": "python",
   "nbconvert_exporter": "python",
   "pygments_lexer": "ipython2",
   "version": "2.7.9"
  }
 },
 "nbformat": 4,
 "nbformat_minor": 0
}
