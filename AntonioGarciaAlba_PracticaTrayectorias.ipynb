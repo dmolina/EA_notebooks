{
 "cells": [
  {
   "cell_type": "markdown",
   "metadata": {},
   "source": [
    "## Leyendo datos de TSPData"
   ]
  },
  {
   "cell_type": "markdown",
   "metadata": {},
   "source": [
    "Primero vamos a coger una distribución de ciudades reales, en particular de Argentina haciendo uso del fichero del campus virtual."
   ]
  },
  {
   "cell_type": "code",
   "execution_count": 101,
   "metadata": {
    "collapsed": false
   },
   "outputs": [
    {
     "name": "stdout",
     "output_type": "stream",
     "text": [
      "Populating the interactive namespace from numpy and matplotlib\n"
     ]
    },
    {
     "name": "stderr",
     "output_type": "stream",
     "text": [
      "WARNING: pylab import has clobbered these variables: ['random']\n",
      "`%matplotlib` prevents importing * from pylab and numpy\n"
     ]
    }
   ],
   "source": [
    "%pylab inline"
   ]
  },
  {
   "cell_type": "code",
   "execution_count": 102,
   "metadata": {
    "collapsed": false
   },
   "outputs": [],
   "source": [
    "import pandas as pd\n"
   ]
  },
  {
   "cell_type": "code",
   "execution_count": 103,
   "metadata": {
    "collapsed": false
   },
   "outputs": [],
   "source": [
    "from StringIO import StringIO\n",
    "\n",
    "df = pd.read_table('ar9152.tsp', sep=' ', skiprows=7, skipfooter=1, index_col=0, names=['x','y'], engine='python')"
   ]
  },
  {
   "cell_type": "markdown",
   "metadata": {},
   "source": [
    "Mostramos los datos para ver que el fichero se ha cargado correctamente"
   ]
  },
  {
   "cell_type": "code",
   "execution_count": 104,
   "metadata": {
    "collapsed": false
   },
   "outputs": [
    {
     "data": {
      "text/html": [
       "<div style=\"max-height:1000px;max-width:1500px;overflow:auto;\">\n",
       "<table border=\"1\" class=\"dataframe\">\n",
       "  <thead>\n",
       "    <tr style=\"text-align: right;\">\n",
       "      <th></th>\n",
       "      <th>x</th>\n",
       "      <th>y</th>\n",
       "    </tr>\n",
       "  </thead>\n",
       "  <tbody>\n",
       "    <tr>\n",
       "      <th>1</th>\n",
       "      <td> 36266.6667</td>\n",
       "      <td> 62550.0000</td>\n",
       "    </tr>\n",
       "    <tr>\n",
       "      <th>2</th>\n",
       "      <td> 34600.0000</td>\n",
       "      <td> 58633.3333</td>\n",
       "    </tr>\n",
       "    <tr>\n",
       "      <th>3</th>\n",
       "      <td> 51650.0000</td>\n",
       "      <td> 72300.0000</td>\n",
       "    </tr>\n",
       "    <tr>\n",
       "      <th>4</th>\n",
       "      <td> 37800.0000</td>\n",
       "      <td> 67683.3333</td>\n",
       "    </tr>\n",
       "    <tr>\n",
       "      <th>5</th>\n",
       "      <td> 35428.0556</td>\n",
       "      <td> 60174.1667</td>\n",
       "    </tr>\n",
       "  </tbody>\n",
       "</table>\n",
       "</div>"
      ],
      "text/plain": [
       "            x           y\n",
       "1  36266.6667  62550.0000\n",
       "2  34600.0000  58633.3333\n",
       "3  51650.0000  72300.0000\n",
       "4  37800.0000  67683.3333\n",
       "5  35428.0556  60174.1667"
      ]
     },
     "execution_count": 104,
     "metadata": {},
     "output_type": "execute_result"
    }
   ],
   "source": [
    "df.head()"
   ]
  },
  {
   "cell_type": "code",
   "execution_count": 105,
   "metadata": {
    "collapsed": false
   },
   "outputs": [
    {
     "name": "stdout",
     "output_type": "stream",
     "text": [
      "               x           y\n",
      "9148  34411.1111  58798.3333\n",
      "9149  34813.3333  58475.2778\n",
      "9150  34878.0556  58135.8333\n",
      "9151  34917.2222  58386.9444\n",
      "9152  34976.9444  58686.9444\n",
      "               x           y\n",
      "9147  34383.0556  58848.8889\n",
      "9148  34411.1111  58798.3333\n",
      "9149  34813.3333  58475.2778\n",
      "9150  34878.0556  58135.8333\n",
      "9151  34917.2222  58386.9444\n"
     ]
    }
   ],
   "source": [
    "print df.tail()\n",
    "# Borro el último para evitar el EOF del fichero\n",
    "df = df[:-1]\n",
    "print df.tail()"
   ]
  },
  {
   "cell_type": "markdown",
   "metadata": {},
   "source": [
    "Ahora podemos leer las posiciones"
   ]
  },
  {
   "cell_type": "code",
   "execution_count": 106,
   "metadata": {
    "collapsed": false
   },
   "outputs": [],
   "source": [
    "posiciones=[(float(x),float(y)) for x, y in zip(df['x'],df['y'])]"
   ]
  },
  {
   "cell_type": "markdown",
   "metadata": {},
   "source": [
    "Normalizamos y establecemos el límite de ciudades a 1000"
   ]
  },
  {
   "cell_type": "code",
   "execution_count": 107,
   "metadata": {
    "collapsed": false
   },
   "outputs": [],
   "source": [
    "pos = np.asarray(posiciones)\n",
    "max_pos = pos.max(0)\n",
    "min_pos = pos.min(0)\n",
    "ratio_pos = max_pos - min_pos\n",
    "pos = (pos-min_pos)/ratio_pos\n",
    "num_ciudades = 1000\n",
    "posiciones = map(tuple, pos[:num_ciudades]) #Me quedo con los primeros num_ciudades elementos\n"
   ]
  },
  {
   "cell_type": "markdown",
   "metadata": {},
   "source": [
    "En este caso vamos a generar la matriz de costes a partir de la distancia euclidea"
   ]
  },
  {
   "cell_type": "code",
   "execution_count": 108,
   "metadata": {
    "collapsed": true
   },
   "outputs": [],
   "source": [
    "from scipy.spatial.distance import euclidean as distance\n",
    "\n",
    "def get_matrix_costes(posiciones):\n",
    "    num = len(posiciones)\n",
    "    costes = np.array([distance(posiciones[c1],posiciones[c2]) for c1 in range(num) for c2 in range(num)])\n",
    "    return costes.reshape((num, num))"
   ]
  },
  {
   "cell_type": "code",
   "execution_count": 109,
   "metadata": {
    "collapsed": false
   },
   "outputs": [],
   "source": [
    "costes = get_matrix_costes(posiciones)"
   ]
  },
  {
   "cell_type": "markdown",
   "metadata": {},
   "source": [
    "Costes ahora almacena para cada par de ciudades su distancia. Presentamos los datos por pantalla para asegurarnos de que funciona correctamente."
   ]
  },
  {
   "cell_type": "code",
   "execution_count": 110,
   "metadata": {
    "collapsed": false
   },
   "outputs": [
    {
     "name": "stdout",
     "output_type": "stream",
     "text": [
      "[[ 0.          0.21083606  0.69047883 ...,  0.32414658  0.2792496\n",
      "   0.29056059]\n",
      " [ 0.21083606  0.          0.88140745 ...,  0.37827615  0.4061588\n",
      "   0.39974159]\n",
      " [ 0.69047883  0.88140745  0.         ...,  0.90236424  0.77748313\n",
      "   0.81120306]\n",
      " ..., \n",
      " [ 0.32414658  0.37827615  0.90236424 ...,  0.          0.13229269\n",
      "   0.09829191]\n",
      " [ 0.2792496   0.4061588   0.77748313 ...,  0.13229269  0.          0.03449672]\n",
      " [ 0.29056059  0.39974159  0.81120306 ...,  0.09829191  0.03449672  0.        ]]\n"
     ]
    }
   ],
   "source": [
    "print costes"
   ]
  },
  {
   "cell_type": "markdown",
   "metadata": {},
   "source": [
    "# Función de fitness"
   ]
  },
  {
   "cell_type": "markdown",
   "metadata": {},
   "source": [
    "\n",
    "La función de fitness consiste en calcular la distancia recorrida."
   ]
  },
  {
   "cell_type": "code",
   "execution_count": 111,
   "metadata": {
    "collapsed": true
   },
   "outputs": [],
   "source": [
    "def fitness(solucion, costes):\n",
    "    sum = 0\n",
    "    \n",
    "    for i in range(num_ciudades-1):\n",
    "        c1 = solucion[i]\n",
    "        c2 = solucion[i+1]\n",
    "        sum += costes[c1,c2]\n",
    "    # Volver a la ciudad inicial\n",
    "    ciudad_final = solucion[num_ciudades-1]\n",
    "    ciudad_origen = solucion[0]\n",
    "    sum += costes[ciudad_final, ciudad_origen]\n",
    "    return sum"
   ]
  },
  {
   "cell_type": "markdown",
   "metadata": {},
   "source": [
    "# Implementación de la Busqueda Local"
   ]
  },
  {
   "cell_type": "markdown",
   "metadata": {},
   "source": [
    "En este caso no es de aplicación la búsqueda local"
   ]
  },
  {
   "cell_type": "code",
   "execution_count": 112,
   "metadata": {
    "collapsed": true
   },
   "outputs": [],
   "source": [
    "import numpy as np"
   ]
  },
  {
   "cell_type": "code",
   "execution_count": 113,
   "metadata": {
    "collapsed": false
   },
   "outputs": [],
   "source": [
    "def local_search(resultado, p1, p2):\n",
    "    return np.concatenate((resultado[:p1], resultado[p1:p2+1][::-1], resultado[p2+1:]))"
   ]
  },
  {
   "cell_type": "code",
   "execution_count": 114,
   "metadata": {
    "collapsed": false
   },
   "outputs": [
    {
     "name": "stdout",
     "output_type": "stream",
     "text": [
      "[ 0  1  2  8  7  6  3  9 10]\n"
     ]
    }
   ],
   "source": [
    "# Prueba unitaria\n",
    "a = [0, 1, 2, 3, 6, 7, 8 ,9 ,10]\n",
    "print local_search(a, 3, 6)\n"
   ]
  },
  {
   "cell_type": "markdown",
   "metadata": {},
   "source": [
    "# Solución Aleatoria"
   ]
  },
  {
   "cell_type": "markdown",
   "metadata": {},
   "source": [
    "Incluimos la solución aleatoria para poder realizar la comparativa"
   ]
  },
  {
   "cell_type": "code",
   "execution_count": 115,
   "metadata": {
    "collapsed": true
   },
   "outputs": [],
   "source": [
    "def random_solution(num_ciudades): # Para la comparativa\n",
    "    return np.random.permutation(num_ciudades)"
   ]
  },
  {
   "cell_type": "markdown",
   "metadata": {},
   "source": [
    "# Construcción Greedy Aleatorio"
   ]
  },
  {
   "cell_type": "code",
   "execution_count": 116,
   "metadata": {
    "collapsed": false
   },
   "outputs": [],
   "source": [
    "import random\n",
    "\n",
    "def ramdom_greedy_construction(costes, lr):\n",
    "    \n",
    "    pendientes = range(0, len(costes))\n",
    "    solucion = [] # S = {}\n",
    "    \n",
    "    while pendientes != [] :\n",
    "        \n",
    "        # Repetir Mientras (no se haya construido la solución)\n",
    "        # Si nos queda más de un elemento tenemos que decidir\n",
    "        if 1 != len(pendientes):\n",
    "            \n",
    "            # Extraemos el primero que será parte de la solución\n",
    "            ciudad = pendientes[0]\n",
    "            solucion += [ciudad]\n",
    "\n",
    "            # Obtenemos los costes para la ciudad seleccionada\n",
    "            distancias = costes[ciudad]\n",
    "\n",
    "            # Borramos la seleccionada de la lista de pendientes\n",
    "            del pendientes[0]\n",
    "\n",
    "            # Nos quedamos sólo con los costes de las ciudades pendientes\n",
    "            # No vamos a volver a pasar por una ciudad\n",
    "            distancias_destino = np.array([distancias[i] for i in pendientes])\n",
    "\n",
    "            # Crear Lista Restringida de Candidatos (LRC)\n",
    "            # Nos tenemos que quedar con las tres (lr) minimas\n",
    "            # y seleccionar una al azar\n",
    "                     \n",
    "            if lr < len(distancias_destino):\n",
    "\n",
    "                lr_minimos = distancias_destino.argsort()[:lr]                 \n",
    "                index_seleccionado = lr_minimos[randint(0,lr)]    # s: selección-aleatoria-elemento\n",
    "                    \n",
    "            else:\n",
    "                # Cuando no hay un conjunto de datos mínimo para aplicar el algoritmo \n",
    "                # nos quedamos con el mínimo. En la clase vimos que debía ser aleatorio\n",
    "                # hacemos este aporte como una pequeña mejora al algoritmo.\n",
    "                index_destino_mas_cercano_pendientes = distancias_destino.argmin()\n",
    "                index_seleccionado = index_destino_mas_cercano_pendientes\n",
    "\n",
    "            # Ponemos la siguiente ciudad como primera para que sea\n",
    "            # por la que continuamos para construir el camino\n",
    "            pendientes[0], pendientes[index_seleccionado] = pendientes[index_seleccionado], pendientes[0]\n",
    "\n",
    "        else:\n",
    "            # Caso particular para cuando sólo queda un elemento\n",
    "            solucion += [pendientes[0]]\n",
    "            del pendientes[0]\n",
    " \n",
    "    \n",
    "    return solucion\n",
    "    \n"
   ]
  },
  {
   "cell_type": "markdown",
   "metadata": {},
   "source": [
    "# Procedimiento GRASP\n",
    "Aplicacimos el procedimiento GRASP tal como se recoge en las transparencias de clase\n"
   ]
  },
  {
   "cell_type": "code",
   "execution_count": 117,
   "metadata": {
    "collapsed": true
   },
   "outputs": [],
   "source": [
    "from sys import maxint\n",
    "\n",
    "def grasp_procedure(fitness, costes, evaluations):\n",
    "    \n",
    "    #Construimos una primera solución que sirva de partida\n",
    "    lr = 3\n",
    "    best_sol = ramdom_greedy_construction(costes, lr)\n",
    "    best = fitness(best_sol, costes)\n",
    "    \n",
    "    # Repetimos hasta complir con el criterio de parada\n",
    "    for r in range(evaluations-1):\n",
    "        solucion = ramdom_greedy_construction(costes, lr)\n",
    "        fitness_sol = fitness(solucion, costes)\n",
    "        \n",
    "        # Si la solución es mejor que la obtenida previamente\n",
    "        # la guardamos como la mejor\n",
    "        if (fitness_sol < best):\n",
    "            best = fitness_sol\n",
    "            best_sol = solucion\n",
    "            \n",
    "    return best_sol, best"
   ]
  },
  {
   "cell_type": "markdown",
   "metadata": {},
   "source": [
    "# Definición del experimento\n",
    "Al no ser determinístico tendremos que repetir el algoritmo GRASP 10 veces. Obtendremos la media para comparar el resultado con la propuesta aleatoria ejecutada también 10 veces."
   ]
  },
  {
   "cell_type": "code",
   "execution_count": 121,
   "metadata": {
    "collapsed": false
   },
   "outputs": [
    {
     "name": "stdout",
     "output_type": "stream",
     "text": [
      "RESULTADO MEDIO USANDO ALGORITMO GRASP:\n",
      "25.2907431305\n",
      "1000\n",
      "1000\n",
      "RESULTADO MEDIO USANDO ALGORITMO ALEATORIO:\n",
      "297.121363026\n",
      "1000\n",
      "ÚLTIMA SOLUCIÓN GRASP\n",
      "[0, 31, 572, 718, 828, 751, 747, 688, 527, 58, 376, 867, 827, 804, 803, 696, 752, 190, 189, 545, 746, 893, 848, 128, 909, 220, 135, 7, 543, 224, 116, 269, 838, 438, 419, 82, 199, 424, 760, 793, 794, 169, 379, 451, 214, 693, 168, 695, 450, 217, 959, 775, 845, 389, 357, 12, 233, 505, 630, 263, 455, 456, 589, 475, 432, 342, 470, 924, 373, 925, 344, 202, 71, 481, 463, 70, 314, 185, 497, 368, 414, 222, 433, 437, 965, 110, 163, 858, 921, 434, 315, 410, 855, 327, 854, 111, 324, 411, 435, 441, 759, 758, 905, 963, 779, 685, 418, 744, 791, 165, 480, 109, 754, 385, 952, 420, 602, 251, 786, 639, 969, 774, 888, 461, 780, 951, 763, 593, 341, 454, 198, 18, 426, 692, 333, 334, 915, 515, 638, 254, 210, 733, 26, 288, 408, 679, 286, 966, 35, 869, 348, 297, 404, 268, 137, 266, 734, 673, 24, 710, 731, 641, 662, 138, 216, 730, 661, 175, 188, 660, 483, 612, 611, 48, 177, 335, 197, 159, 5, 489, 140, 3, 238, 757, 700, 755, 401, 52, 57, 689, 179, 332, 701, 900, 770, 578, 928, 724, 678, 918, 107, 108, 564, 929, 739, 897, 949, 141, 947, 727, 890, 594, 606, 887, 605, 749, 540, 539, 53, 881, 524, 230, 249, 260, 556, 351, 186, 370, 490, 431, 494, 712, 305, 876, 798, 719, 37, 624, 629, 587, 307, 15, 17, 43, 384, 299, 566, 76, 922, 535, 279, 378, 325, 884, 923, 14, 457, 575, 574, 899, 474, 402, 926, 201, 643, 644, 519, 158, 622, 453, 47, 223, 687, 41, 227, 782, 338, 343, 422, 503, 323, 1, 21, 484, 309, 295, 130, 320, 250, 318, 308, 313, 507, 430, 241, 417, 310, 429, 259, 365, 444, 579, 560, 312, 240, 183, 889, 231, 416, 586, 504, 191, 598, 659, 886, 374, 296, 473, 485, 464, 443, 407, 486, 114, 488, 388, 213, 391, 361, 398, 806, 282, 164, 585, 346, 306, 917, 496, 549, 331, 248, 162, 512, 487, 144, 530, 131, 536, 340, 396, 264, 405, 691, 686, 573, 537, 322, 211, 478, 859, 171, 236, 256, 319, 326, 623, 265, 303, 205, 968, 355, 203, 400, 208, 88, 647, 61, 75, 552, 950, 409, 206, 95, 160, 428, 383, 226, 604, 69, 985, 853, 970, 19, 89, 91, 447, 87, 495, 262, 987, 354, 534, 561, 393, 92, 711, 726, 392, 880, 242, 439, 717, 981, 988, 103, 955, 792, 920, 60, 394, 640, 621, 648, 413, 984, 741, 212, 317, 126, 787, 910, 276, 180, 353, 221, 78, 77, 25, 6, 79, 819, 121, 330, 568, 98, 74, 820, 298, 732, 544, 350, 172, 124, 588, 243, 10, 569, 9, 531, 865, 449, 363, 154, 207, 815, 986, 930, 22, 278, 336, 277, 501, 255, 302, 467, 631, 372, 538, 850, 42, 626, 358, 215, 415, 498, 502, 16, 84, 771, 397, 375, 237, 23, 472, 874, 571, 875, 387, 625, 557, 452, 462, 493, 399, 783, 440, 690, 697, 894, 187, 597, 620, 826, 112, 547, 583, 122, 281, 118, 345, 170, 119, 777, 778, 526, 508, 239, 705, 927, 492, 895, 812, 427, 448, 425, 225, 471, 953, 261, 807, 990, 831, 293, 658, 657, 801, 633, 173, 367, 634, 83, 477, 65, 809, 603, 381, 738, 654, 347, 136, 228, 184, 204, 271, 830, 772, 797, 181, 94, 839, 491, 219, 423, 176, 352, 509, 360, 366, 672, 866, 506, 245, 513, 328, 956, 292, 728, 34, 740, 707, 229, 101, 247, 356, 873, 871, 149, 652, 235, 957, 906, 272, 761, 852, 311, 683, 978, 974, 81, 274, 976, 469, 834, 147, 861, 919, 664, 608, 762, 45, 663, 972, 609, 258, 851, 708, 912, 532, 105, 750, 596, 64, 244, 349, 193, 458, 369, 510, 106, 482, 99, 971, 412, 442, 72, 843, 403, 914, 913, 516, 704, 998, 80, 892, 896, 835, 50, 999, 796, 996, 823, 991, 581, 166, 681, 870, 642, 289, 682, 962, 628, 476, 946, 961, 960, 517, 533, 856, 936, 937, 864, 465, 174, 148, 941, 938, 934, 931, 942, 844, 29, 167, 790, 789, 808, 837, 975, 382, 619, 846, 607, 20, 287, 645, 359, 337, 54, 992, 157, 833, 653, 100, 832, 822, 117, 291, 518, 802, 706, 720, 284, 558, 33, 729, 716, 715, 842, 275, 273, 182, 997, 150, 290, 810, 152, 995, 151, 616, 257, 445, 90, 764, 551, 46, 784, 8, 153, 59, 563, 618, 66, 666, 96, 546, 821, 908, 824, 104, 702, 529, 30, 125, 879, 878, 709, 680, 548, 161, 885, 725, 499, 907, 500, 479, 49, 722, 62, 51, 721, 555, 825, 525, 195, 145, 636, 982, 979, 156, 40, 520, 209, 980, 39, 767, 637, 113, 868, 742, 123, 321, 650, 601, 829, 805, 280, 649, 785, 44, 38, 27, 559, 599, 377, 4, 703, 902, 120, 584, 421, 267, 553, 522, 459, 550, 362, 595, 234, 134, 371, 67, 562, 743, 32, 127, 390, 316, 339, 13, 466, 541, 36, 521, 196, 847, 301, 283, 635, 610, 591, 528, 882, 883, 632, 614, 745, 753, 756, 246, 795, 364, 948, 580, 55, 285, 406, 232, 576, 898, 862, 694, 646, 300, 993, 178, 994, 776, 665, 115, 768, 554, 395, 773, 916, 954, 436, 200, 904, 675, 944, 945, 674, 468, 613, 218, 73, 671, 651, 788, 93, 977, 735, 958, 570, 668, 11, 28, 836, 582, 143, 669, 903, 714, 655, 736, 860, 97, 627, 840, 132, 723, 142, 983, 133, 684, 86, 973, 849, 841, 617, 817, 656, 863, 68, 935, 85, 380, 670, 129, 514, 102, 989, 800, 194, 765, 146, 590, 592, 857, 713, 813, 799, 872, 814, 252, 932, 676, 818, 677, 270, 446, 939, 816, 933, 253, 567, 329, 781, 891, 748, 769, 600, 964, 139, 565, 304, 577, 155, 737, 766, 698, 699, 63, 386, 940, 911, 294, 877, 967, 192, 511, 943, 901, 56, 523, 811, 2, 542, 615, 460, 667]\n"
     ]
    }
   ],
   "source": [
    "evaluaciones_grasp = 5000;\n",
    "repeticiones = 10;\n",
    "\n",
    "# Ejecutamos repeticiones veces el algoritmo grasp y el aleatorio\n",
    "parciales_grasp = 0\n",
    "parciales_aleatorio = 0\n",
    "\n",
    "for i in range(0, repeticiones):\n",
    "    \n",
    "    solucion, resultado = grasp_procedure(fitness, costes, evaluaciones_grasp)  \n",
    "    parciales_grasp += resultado\n",
    "    \n",
    "    solucion_aleatoria = random_solution(num_ciudades)\n",
    "    resultado_aleatorio = fitness(solucion_aleatoria, costes)\n",
    "    parciales_aleatorio += resultado_aleatorio\n",
    "\n",
    "# Calculamos la media\n",
    "distancia_grasp = parciales_grasp / repeticiones;\n",
    "distancia_aleatoria = parciales_aleatorio / repeticiones;\n",
    "\n",
    "print 'RESULTADO MEDIO USANDO ALGORITMO GRASP:'\n",
    "print distancia_grasp\n",
    "print len(solucion)\n",
    "\n",
    "# Comprobamos que no hay elementos repetidos en el resultado\n",
    "# esto nos garantiza, junto a que la solución tiene\n",
    "# 1000 elementos que se han recorrido todas las ciudades\n",
    "seen = set()\n",
    "uniq = [x for x in solucion if x not in seen and not seen.add(x)]  \n",
    "print len(uniq)\n",
    "\n",
    "print 'RESULTADO MEDIO USANDO ALGORITMO ALEATORIO:'\n",
    "print distancia_aleatoria\n",
    "print len(solucion_aleatoria)\n",
    "\n",
    "print 'ÚLTIMA SOLUCIÓN GRASP'\n",
    "print solucion\n"
   ]
  },
  {
   "cell_type": "markdown",
   "metadata": {},
   "source": [
    "# Resultados\n",
    "Vemos como la solución haciendo uso del algortimo GRASP es mucho mejor que la solución aleatoria. El realizar 5000 evaluaciones hace que sea bastante más lento que el aleatorio -como era de esperar- pero es cierto que aún con valores de evaluaciones grasp mínimas (5) se observan resultados mucho mejores."
   ]
  }
 ],
 "metadata": {
  "kernelspec": {
   "display_name": "Python 2",
   "language": "python",
   "name": "python2"
  },
  "language_info": {
   "codemirror_mode": {
    "name": "ipython",
    "version": 2
   },
   "file_extension": ".py",
   "mimetype": "text/x-python",
   "name": "python",
   "nbconvert_exporter": "python",
   "pygments_lexer": "ipython2",
   "version": "2.7.9"
  }
 },
 "nbformat": 4,
 "nbformat_minor": 0
}
